{
 "cells": [
  {
   "cell_type": "markdown",
   "metadata": {},
   "source": [
    "### Web scraping from Tripadvisors' pages to extract info about restaurants (Beautifulsoup)"
   ]
  },
  {
   "cell_type": "markdown",
   "metadata": {},
   "source": [
    "Different attributes of restaurants are extracted from the page of the most popular restaurants in Toronto anf from individual web page of these restaurants. These attributes are then put into a pandas dataframe. Beautifulsoup is used."
   ]
  },
  {
   "cell_type": "markdown",
   "metadata": {},
   "source": [
    "**Import libraries**"
   ]
  },
  {
   "cell_type": "code",
   "execution_count": 1,
   "metadata": {},
   "outputs": [],
   "source": [
    "import requests\n",
    "import numpy as np\n",
    "from bs4 import BeautifulSoup\n",
    "import time\n",
    "import pandas as pd"
   ]
  },
  {
   "cell_type": "markdown",
   "metadata": {},
   "source": [
    "**Extract info from a website**"
   ]
  },
  {
   "cell_type": "code",
   "execution_count": 2,
   "metadata": {},
   "outputs": [],
   "source": [
    "url = \"https://www.tripadvisor.com/Restaurants-g155019-Toronto_Ontario.html\"\n",
    "headers = {'User-Agent': 'Mozilla/5.0 (Macintosh; Intel Mac OS X 10_11_6) AppleWebKit/537.36 (KHTML, like Gecko) Chrome/61.0.3163.100 Safari/537.36'}\n",
    "\n",
    "r = requests.get(url, headers=headers)\n",
    "html_doc = r.content\n",
    "\n",
    "soup = BeautifulSoup(html_doc, 'html.parser')\n",
    "elements = soup.findAll('a', attrs={'class': \"property_title\"})"
   ]
  },
  {
   "cell_type": "markdown",
   "metadata": {},
   "source": [
    "**Extract names of restaurants (30 in total)** <br>\n",
    "_Tag_: 'a' <br>\n",
    "_Attribute_: 'class': 'property_title'"
   ]
  },
  {
   "cell_type": "code",
   "execution_count": 3,
   "metadata": {},
   "outputs": [],
   "source": [
    "elements = soup.findAll('a', attrs={'class': 'property_title'})\n",
    "restaurants=[]\n",
    "for el in elements:\n",
    "    restaurants.append(el.text.strip(\"\\n\"))"
   ]
  },
  {
   "cell_type": "code",
   "execution_count": 4,
   "metadata": {},
   "outputs": [
    {
     "data": {
      "text/plain": [
       "['STK Toronto', 'ALO RESTAURANT', 'Scaramouche Restaurant']"
      ]
     },
     "execution_count": 4,
     "metadata": {},
     "output_type": "execute_result"
    }
   ],
   "source": [
    "restaurants[:3]"
   ]
  },
  {
   "cell_type": "markdown",
   "metadata": {},
   "source": [
    "**Extract number of reviews** <br>\n",
    "_Tag_: 'div' <br>\n",
    "_Attribute_: 'class': 'rating rebrand'"
   ]
  },
  {
   "cell_type": "code",
   "execution_count": 5,
   "metadata": {},
   "outputs": [],
   "source": [
    "reviews=[]\n",
    "reviews_number = soup.findAll('div', attrs={'class': \"rating rebrand\"})\n",
    "for rew in reviews_number:\n",
    "    reviews.append(rew.contents[3].text.strip(\"\\n\"))"
   ]
  },
  {
   "cell_type": "code",
   "execution_count": 6,
   "metadata": {},
   "outputs": [
    {
     "data": {
      "text/plain": [
       "['350 reviews ', '453 reviews ', '1,388 reviews ']"
      ]
     },
     "execution_count": 6,
     "metadata": {},
     "output_type": "execute_result"
    }
   ],
   "source": [
    "reviews[:3]"
   ]
  },
  {
   "cell_type": "markdown",
   "metadata": {},
   "source": [
    "**Extract ratings** <br>\n",
    "_Tag_: 'div' <br>\n",
    "_Attribute_: 'class': 'rating rebrand'"
   ]
  },
  {
   "cell_type": "code",
   "execution_count": 7,
   "metadata": {},
   "outputs": [],
   "source": [
    "ratings=[]\n",
    "ratings_ = soup.findAll('div', attrs={'class': \"rating rebrand\"})\n",
    "\n",
    "for ratg in ratings_:\n",
    "    ratings.append(ratg.contents[1]['alt'].strip(\"\\n\"))"
   ]
  },
  {
   "cell_type": "code",
   "execution_count": 8,
   "metadata": {},
   "outputs": [
    {
     "data": {
      "text/plain": [
       "['4.5 of 5 bubbles', '4.5 of 5 bubbles', '4.5 of 5 bubbles']"
      ]
     },
     "execution_count": 8,
     "metadata": {},
     "output_type": "execute_result"
    }
   ],
   "source": [
    "ratings[:3]"
   ]
  },
  {
   "cell_type": "markdown",
   "metadata": {},
   "source": [
    "**Extract prices** <br>\n",
    "_Tag_: 'span' <br>\n",
    "_Attribute_: 'class': 'item price'"
   ]
  },
  {
   "cell_type": "code",
   "execution_count": 9,
   "metadata": {},
   "outputs": [],
   "source": [
    "prices=[]\n",
    "prices_ = soup.findAll('span', attrs={'class': \"item price\"})\n",
    "\n",
    "for p in prices_:\n",
    "    prices.append(p.text)"
   ]
  },
  {
   "cell_type": "markdown",
   "metadata": {},
   "source": [
    "Replace symbols with values"
   ]
  },
  {
   "cell_type": "code",
   "execution_count": 10,
   "metadata": {},
   "outputs": [],
   "source": [
    "for n, i in enumerate(prices):\n",
    "    if i == \"$\":\n",
    "        prices[n] = \"Cheap\"\n",
    "    elif i == \"$$ - $$$\":\n",
    "        prices[n] = \"Medium range\"\n",
    "    elif i == \"$$$$\":\n",
    "        prices[n] = \"Expensive\""
   ]
  },
  {
   "cell_type": "code",
   "execution_count": 11,
   "metadata": {},
   "outputs": [
    {
     "data": {
      "text/plain": [
       "['Medium range', 'Expensive', 'Expensive']"
      ]
     },
     "execution_count": 11,
     "metadata": {},
     "output_type": "execute_result"
    }
   ],
   "source": [
    "prices[:3]"
   ]
  },
  {
   "cell_type": "markdown",
   "metadata": {},
   "source": [
    "**Extract cuisines of restaurants** <br>\n",
    "_Tag_: 'div' <br>\n",
    "_Attribute_: 'class': 'cuisines' <br>\n",
    "Info is extracted through \"children\""
   ]
  },
  {
   "cell_type": "code",
   "execution_count": 12,
   "metadata": {},
   "outputs": [],
   "source": [
    "cuisines_ = soup.findAll('div', attrs={'class': \"cuisines\"})\n",
    "cuisines=[]\n",
    "for c in cuisines_:\n",
    "    children = c.findChildren(\"a\" , recursive=False)\n",
    "    lst_temp=[]\n",
    "    for child in children:\n",
    "        lst_temp.append(child.text)\n",
    "    cuisines.append(lst_temp)"
   ]
  },
  {
   "cell_type": "code",
   "execution_count": 13,
   "metadata": {},
   "outputs": [
    {
     "data": {
      "text/plain": [
       "['French',\n",
       " 'European',\n",
       " 'Vegetarian Friendly',\n",
       " 'Vegan Options',\n",
       " 'Gluten Free Options']"
      ]
     },
     "execution_count": 13,
     "metadata": {},
     "output_type": "execute_result"
    }
   ],
   "source": [
    "cuisines[1] #single restaurant"
   ]
  },
  {
   "cell_type": "markdown",
   "metadata": {},
   "source": [
    "**Web links of restaurants to extract info from individual web pages of restaurants**"
   ]
  },
  {
   "cell_type": "code",
   "execution_count": 14,
   "metadata": {},
   "outputs": [],
   "source": [
    "links_ = soup.findAll('a', attrs={'class': \"property_title\"})\n",
    "links = []\n",
    "for l in links_:\n",
    "    links.append(l['href'])"
   ]
  },
  {
   "cell_type": "markdown",
   "metadata": {},
   "source": [
    "**All restaraunts are processed via loop** <br> \n",
    "Different attributes are extracted and put into lists <br>\n",
    "Listst are:"
   ]
  },
  {
   "cell_type": "code",
   "execution_count": 15,
   "metadata": {},
   "outputs": [],
   "source": [
    "addresses = []\n",
    "locations = []\n",
    "countries = []\n",
    "phone_numbs = []\n",
    "ratings_all = []\n",
    "details_list = []\n",
    "reviews_full=[]"
   ]
  },
  {
   "cell_type": "code",
   "execution_count": 16,
   "metadata": {},
   "outputs": [],
   "source": [
    "for link in links:\n",
    "    time.sleep(5)\n",
    "    url_r = \"https://www.tripadvisor.com\" + str(link)\n",
    "    #print(\"Processing: \", link)\n",
    "    r_r = requests.get(url_r, headers=headers)    \n",
    "    html_doc_r = r_r.content\n",
    "    soup_r = BeautifulSoup(html_doc_r, 'html.parser')\n",
    "\n",
    "##/##/##/##/##/##/##/##/##/##/##/##/##/\n",
    "#address is extracted\n",
    "    address_ = soup_r.find('span', attrs={'class': \"street-address\"})\n",
    "    addresses.append(address_.text)\n",
    "    \n",
    "\n",
    "##/##/##/##/##/##/##/##/##/##/##/##/##/\n",
    "#locations\n",
    "    locations_ = soup_r.find('span', attrs={'class': \"locality\"})\n",
    "    locations.append(locations_.text[:-2]) #exclude last comma\n",
    "\n",
    "\n",
    "\n",
    "##/##/##/##/##/##/##/##/##/##/##/##/##/\n",
    "#country is extracted\n",
    "    country_ = soup_r.find('span', attrs={'class': \"country-name\"})\n",
    "    countries.append(country_.text.strip(\"\\n\"))\n",
    "\n",
    "\n",
    "\n",
    "##/##/##/##/##/##/##/##/##/##/##/##/##/\n",
    "#phone number is extracted\n",
    "\n",
    "    phone = soup_r.find('div', attrs={'class': \"blEntry phone\"})\n",
    "    phone_numbs.append(phone.text.strip(\"\\n\"))\n",
    "\n",
    "##/##/##/##/##/##/##/##/##/##/##/##/##/\n",
    "#ratings are extracted\n",
    "    ratings_names = []\n",
    "    ratings_numbs = []\n",
    "    ratings_name = soup_r.findAll('div', attrs={'class': \"wrap row part \"})\n",
    "    for r in ratings_name:\n",
    "        ratings_names.append(r.span['alt'])\n",
    "        \n",
    "    ratings_numb = soup_r.findAll('div', attrs={'class': \"label part \"})\n",
    "    for r_n in ratings_numb:\n",
    "        ratings_numbs.append(r_n.text.strip())\n",
    "        \n",
    "    ratings_dict = {}\n",
    "    for i in range(len(ratings_names)):\n",
    "        ratings_dict[ratings_numbs[i]] = ratings_names[i]\n",
    "    \n",
    "    ratings_all.append(ratings_dict)\n",
    "\n",
    "##/##/##/##/##/##/##/##/##/##/##/##/##/\n",
    "#details (different features of a resturant) are extracted\n",
    "\n",
    "    details = soup_r.findAll('div', attrs={'id': \"RESTAURANT_DETAILS\"})\n",
    "    for d in details:\n",
    "        rest_det = str(d.contents[3])\n",
    "    \n",
    "    soup_det = BeautifulSoup(rest_det, 'html.parser')\n",
    "    \n",
    "    ttls = []\n",
    "    cont = []\n",
    "    \n",
    "    details_ = soup_det.findAll('div', attrs={'class': \"title\"})\n",
    "    for det in details_:\n",
    "        ttls.append(det.text.strip())\n",
    "    \n",
    "    contents_ = soup_det.findAll('div', attrs={'class': \"content\"})\n",
    "    for cn in contents_:\n",
    "        cont.append(cn.text.strip())\n",
    "        \n",
    "        \n",
    "    detail_dict = {}\n",
    "    for i in range(len(ttls)):\n",
    "        detail_dict[ttls[i]] = cont[i]\n",
    "            \n",
    "    details_list.append(detail_dict)\n",
    "    \n",
    "##/##/##/##/##/##/##/##/##/##/##/##/##/\n",
    "#long reviews\n",
    "    reviews_temp=[]\n",
    "    reviewsf_ = soup_r.findAll('p', attrs={'class': \"partial_entry\"})\n",
    "    for rev in reviewsf_:\n",
    "        reviews_temp.append(rev.text)\n",
    "    reviews_full.append(reviews_temp)\n"
   ]
  },
  {
   "cell_type": "markdown",
   "metadata": {},
   "source": [
    "**Create a table(dataframe) from attributes extracted before the loop**"
   ]
  },
  {
   "cell_type": "code",
   "execution_count": 17,
   "metadata": {},
   "outputs": [],
   "source": [
    "df = pd.DataFrame(\n",
    "    {'restaurant_name': restaurants,\n",
    "     'adress': addresses,\n",
    "     'country': countries,\n",
    "     'phone_number': phone_numbs,\n",
    "     'review': reviews,\n",
    "     'overall_rating': ratings,\n",
    "     'price': prices,\n",
    "    })\n"
   ]
  },
  {
   "cell_type": "code",
   "execution_count": 18,
   "metadata": {},
   "outputs": [
    {
     "data": {
      "text/html": [
       "<div>\n",
       "<style scoped>\n",
       "    .dataframe tbody tr th:only-of-type {\n",
       "        vertical-align: middle;\n",
       "    }\n",
       "\n",
       "    .dataframe tbody tr th {\n",
       "        vertical-align: top;\n",
       "    }\n",
       "\n",
       "    .dataframe thead th {\n",
       "        text-align: right;\n",
       "    }\n",
       "</style>\n",
       "<table border=\"1\" class=\"dataframe\">\n",
       "  <thead>\n",
       "    <tr style=\"text-align: right;\">\n",
       "      <th></th>\n",
       "      <th>restaurant_name</th>\n",
       "      <th>adress</th>\n",
       "      <th>country</th>\n",
       "      <th>phone_number</th>\n",
       "      <th>review</th>\n",
       "      <th>overall_rating</th>\n",
       "      <th>price</th>\n",
       "    </tr>\n",
       "  </thead>\n",
       "  <tbody>\n",
       "    <tr>\n",
       "      <th>0</th>\n",
       "      <td>STK Toronto</td>\n",
       "      <td>153 Yorkville Ave</td>\n",
       "      <td>Canada</td>\n",
       "      <td>+1 416-613-9660</td>\n",
       "      <td>350 reviews</td>\n",
       "      <td>4.5 of 5 bubbles</td>\n",
       "      <td>Medium range</td>\n",
       "    </tr>\n",
       "    <tr>\n",
       "      <th>1</th>\n",
       "      <td>ALO RESTAURANT</td>\n",
       "      <td>163 Spadina Ave</td>\n",
       "      <td>Canada</td>\n",
       "      <td>+1 416-260-2222</td>\n",
       "      <td>453 reviews</td>\n",
       "      <td>4.5 of 5 bubbles</td>\n",
       "      <td>Expensive</td>\n",
       "    </tr>\n",
       "    <tr>\n",
       "      <th>2</th>\n",
       "      <td>Scaramouche Restaurant</td>\n",
       "      <td>1 Benvenuto Pl</td>\n",
       "      <td>Canada</td>\n",
       "      <td>+1 416-961-8011</td>\n",
       "      <td>1,388 reviews</td>\n",
       "      <td>4.5 of 5 bubbles</td>\n",
       "      <td>Expensive</td>\n",
       "    </tr>\n",
       "    <tr>\n",
       "      <th>3</th>\n",
       "      <td>New Orleans Seafood &amp; Steakhouse</td>\n",
       "      <td>267 Scarlett Rd</td>\n",
       "      <td>Canada</td>\n",
       "      <td>+1 416-766-7001</td>\n",
       "      <td>209 reviews</td>\n",
       "      <td>4.5 of 5 bubbles</td>\n",
       "      <td>Medium range</td>\n",
       "    </tr>\n",
       "    <tr>\n",
       "      <th>4</th>\n",
       "      <td>Richmond Station</td>\n",
       "      <td>1 Richmond St. West</td>\n",
       "      <td>Canada</td>\n",
       "      <td>+1 647-748-1444</td>\n",
       "      <td>1,825 reviews</td>\n",
       "      <td>4.5 of 5 bubbles</td>\n",
       "      <td>Medium range</td>\n",
       "    </tr>\n",
       "  </tbody>\n",
       "</table>\n",
       "</div>"
      ],
      "text/plain": [
       "                    restaurant_name               adress country  \\\n",
       "0                       STK Toronto    153 Yorkville Ave  Canada   \n",
       "1                    ALO RESTAURANT      163 Spadina Ave  Canada   \n",
       "2            Scaramouche Restaurant       1 Benvenuto Pl  Canada   \n",
       "3  New Orleans Seafood & Steakhouse      267 Scarlett Rd  Canada   \n",
       "4                  Richmond Station  1 Richmond St. West  Canada   \n",
       "\n",
       "      phone_number          review    overall_rating         price  \n",
       "0  +1 416-613-9660    350 reviews   4.5 of 5 bubbles  Medium range  \n",
       "1  +1 416-260-2222    453 reviews   4.5 of 5 bubbles     Expensive  \n",
       "2  +1 416-961-8011  1,388 reviews   4.5 of 5 bubbles     Expensive  \n",
       "3  +1 416-766-7001    209 reviews   4.5 of 5 bubbles  Medium range  \n",
       "4  +1 647-748-1444  1,825 reviews   4.5 of 5 bubbles  Medium range  "
      ]
     },
     "execution_count": 18,
     "metadata": {},
     "output_type": "execute_result"
    }
   ],
   "source": [
    "df.head()"
   ]
  },
  {
   "cell_type": "markdown",
   "metadata": {},
   "source": [
    "**Convert cuisines python list to a list with commas, put it inside a table**"
   ]
  },
  {
   "cell_type": "code",
   "execution_count": 19,
   "metadata": {},
   "outputs": [],
   "source": [
    "cuisines_un=[]\n",
    "for i in range(len(cuisines)):\n",
    "    cuisines_un.append(\",\".join(cuisines[i]))\n",
    "\n",
    "df['cuisines'] = cuisines_un"
   ]
  },
  {
   "cell_type": "markdown",
   "metadata": {},
   "source": [
    "**Extract ratings of individual pieces of ratings** <br>\n",
    "Some restaurants do not have \"atmosphere\", so info is put into a table via \"try...except\""
   ]
  },
  {
   "cell_type": "code",
   "execution_count": 20,
   "metadata": {},
   "outputs": [],
   "source": [
    "df['rating_food'] = np.nan\n",
    "df['rating_service'] = np.nan\n",
    "df['rating_atmosphere'] = np.nan\n",
    "df['rating_value'] = np.nan\n",
    "\n",
    "for i in range(30):\n",
    "    try:\n",
    "        df.loc[i,'rating_food'] = ratings_all[i]['Food']\n",
    "    except KeyError:\n",
    "         continue\n",
    "for i in range(30):\n",
    "    try:\n",
    "        df.loc[i,'rating_service'] = ratings_all[i]['Service']\n",
    "    except KeyError:\n",
    "         continue\n",
    "for i in range(30):\n",
    "    try:\n",
    "        df.loc[i,'rating_atmosphere'] = ratings_all[i]['Atmosphere']\n",
    "    except KeyError:\n",
    "         continue\n",
    "for i in range(30):\n",
    "    try:\n",
    "        df.loc[i,'rating_value'] = ratings_all[i]['Value']\n",
    "    except KeyError:\n",
    "         continue"
   ]
  },
  {
   "cell_type": "markdown",
   "metadata": {},
   "source": [
    "**Remove \"bubbles\" from ratings**"
   ]
  },
  {
   "cell_type": "code",
   "execution_count": 21,
   "metadata": {},
   "outputs": [],
   "source": [
    "for i in range(30):\n",
    "    df.loc[i,'rating_food'] = df.loc[i,'rating_food'].replace('bubbles', '')\n",
    "    df.loc[i,'rating_service'] = df.loc[i,'rating_food'].replace('bubbles', '')\n",
    "    df.loc[i,'rating_atmosphere'] = df.loc[i,'rating_food'].replace('bubbles', '')\n",
    "    df.loc[i,'rating_value'] = df.loc[i,'rating_food'].replace('bubbles', '')\n",
    "    df.loc[i,'overall_rating'] = df.loc[i,'overall_rating'].replace('bubbles', '')"
   ]
  },
  {
   "cell_type": "markdown",
   "metadata": {},
   "source": [
    "**Add details to a table as empty columns**"
   ]
  },
  {
   "cell_type": "code",
   "execution_count": 22,
   "metadata": {},
   "outputs": [],
   "source": [
    "df['Average prices'] = np.nan\n",
    "df['Cuisine'] = np.nan\n",
    "df['Meals'] = np.nan\n",
    "df['Restaurant features'] = np.nan\n",
    "df['Dining Style'] = np.nan\n",
    "df['Good for'] = np.nan\n",
    "df['Open Hours'] = np.nan\n",
    "df['Location and Contact Information'] = np.nan\n",
    "df['Description'] = np.nan"
   ]
  },
  {
   "cell_type": "markdown",
   "metadata": {},
   "source": [
    "**Most of the restaurants do not have all features that are stored in \"details\", so \"try...except\" is needed to store info about restaurants**"
   ]
  },
  {
   "cell_type": "code",
   "execution_count": 23,
   "metadata": {},
   "outputs": [],
   "source": [
    "for i in range(30):\n",
    "    try:\n",
    "        df.loc[i,'Average prices'] = details_list[i]['Average prices']\n",
    "    except KeyError:\n",
    "         continue\n",
    "for i in range(30):\n",
    "    try:\n",
    "        df.loc[i,'Cuisine'] = details_list[i]['Cuisine']\n",
    "    except KeyError:\n",
    "         continue\n",
    "for i in range(30):\n",
    "    try:\n",
    "        df.loc[i,'Meals'] = details_list[i]['Meals']\n",
    "    except KeyError:\n",
    "         continue\n",
    "for i in range(30):\n",
    "    try:\n",
    "        df.loc[i,'Restaurant features'] = details_list[i]['Restaurant features']\n",
    "    except KeyError:\n",
    "         continue\n",
    "\n",
    "for i in range(30):\n",
    "    try:\n",
    "        df.loc[i,'Dining Style'] = details_list[i]['Dining Style']\n",
    "    except KeyError:\n",
    "         continue\n",
    "for i in range(30):\n",
    "    try:\n",
    "        df.loc[i,'Good for'] = details_list[i]['Good for']\n",
    "    except KeyError:\n",
    "         continue\n",
    "for i in range(30):\n",
    "    try:\n",
    "        df.loc[i,'Open Hours'] = details_list[i]['Open Hours']\n",
    "    except KeyError:\n",
    "         continue\n",
    "for i in range(30):\n",
    "    try:\n",
    "        df.loc[i,'Location and Contact Information'] = details_list[i]['Location and Contact Information']\n",
    "    except KeyError:\n",
    "         continue\n",
    "\n",
    "for i in range(30):\n",
    "    try:\n",
    "        df.loc[i,'Description'] = details_list[i]['Description']\n",
    "    except KeyError:\n",
    "         continue\n"
   ]
  },
  {
   "cell_type": "markdown",
   "metadata": {},
   "source": [
    "**Store reviews that are separated by \";\"**"
   ]
  },
  {
   "cell_type": "code",
   "execution_count": 24,
   "metadata": {},
   "outputs": [],
   "source": [
    "new_full_reviews = []\n",
    "for res in reviews_full:\n",
    "    new_full_reviews.append(\";\".join(res))\n",
    "\n",
    "df['reviews'] = new_full_reviews"
   ]
  },
  {
   "cell_type": "markdown",
   "metadata": {},
   "source": [
    "## Final Table"
   ]
  },
  {
   "cell_type": "markdown",
   "metadata": {},
   "source": [
    "**First 5 columns**"
   ]
  },
  {
   "cell_type": "code",
   "execution_count": 31,
   "metadata": {},
   "outputs": [
    {
     "data": {
      "text/html": [
       "<div>\n",
       "<style scoped>\n",
       "    .dataframe tbody tr th:only-of-type {\n",
       "        vertical-align: middle;\n",
       "    }\n",
       "\n",
       "    .dataframe tbody tr th {\n",
       "        vertical-align: top;\n",
       "    }\n",
       "\n",
       "    .dataframe thead th {\n",
       "        text-align: right;\n",
       "    }\n",
       "</style>\n",
       "<table border=\"1\" class=\"dataframe\">\n",
       "  <thead>\n",
       "    <tr style=\"text-align: right;\">\n",
       "      <th></th>\n",
       "      <th>restaurant_name</th>\n",
       "      <th>adress</th>\n",
       "      <th>country</th>\n",
       "      <th>phone_number</th>\n",
       "      <th>review</th>\n",
       "    </tr>\n",
       "  </thead>\n",
       "  <tbody>\n",
       "    <tr>\n",
       "      <th>0</th>\n",
       "      <td>STK Toronto</td>\n",
       "      <td>153 Yorkville Ave</td>\n",
       "      <td>Canada</td>\n",
       "      <td>+1 416-613-9660</td>\n",
       "      <td>350 reviews</td>\n",
       "    </tr>\n",
       "    <tr>\n",
       "      <th>1</th>\n",
       "      <td>ALO RESTAURANT</td>\n",
       "      <td>163 Spadina Ave</td>\n",
       "      <td>Canada</td>\n",
       "      <td>+1 416-260-2222</td>\n",
       "      <td>453 reviews</td>\n",
       "    </tr>\n",
       "    <tr>\n",
       "      <th>2</th>\n",
       "      <td>Scaramouche Restaurant</td>\n",
       "      <td>1 Benvenuto Pl</td>\n",
       "      <td>Canada</td>\n",
       "      <td>+1 416-961-8011</td>\n",
       "      <td>1,388 reviews</td>\n",
       "    </tr>\n",
       "    <tr>\n",
       "      <th>3</th>\n",
       "      <td>New Orleans Seafood &amp; Steakhouse</td>\n",
       "      <td>267 Scarlett Rd</td>\n",
       "      <td>Canada</td>\n",
       "      <td>+1 416-766-7001</td>\n",
       "      <td>209 reviews</td>\n",
       "    </tr>\n",
       "    <tr>\n",
       "      <th>4</th>\n",
       "      <td>Richmond Station</td>\n",
       "      <td>1 Richmond St. West</td>\n",
       "      <td>Canada</td>\n",
       "      <td>+1 647-748-1444</td>\n",
       "      <td>1,825 reviews</td>\n",
       "    </tr>\n",
       "  </tbody>\n",
       "</table>\n",
       "</div>"
      ],
      "text/plain": [
       "                    restaurant_name               adress country  \\\n",
       "0                       STK Toronto    153 Yorkville Ave  Canada   \n",
       "1                    ALO RESTAURANT      163 Spadina Ave  Canada   \n",
       "2            Scaramouche Restaurant       1 Benvenuto Pl  Canada   \n",
       "3  New Orleans Seafood & Steakhouse      267 Scarlett Rd  Canada   \n",
       "4                  Richmond Station  1 Richmond St. West  Canada   \n",
       "\n",
       "      phone_number          review  \n",
       "0  +1 416-613-9660    350 reviews   \n",
       "1  +1 416-260-2222    453 reviews   \n",
       "2  +1 416-961-8011  1,388 reviews   \n",
       "3  +1 416-766-7001    209 reviews   \n",
       "4  +1 647-748-1444  1,825 reviews   "
      ]
     },
     "execution_count": 31,
     "metadata": {},
     "output_type": "execute_result"
    }
   ],
   "source": [
    "df.iloc[:,0:5] .head()"
   ]
  },
  {
   "cell_type": "markdown",
   "metadata": {},
   "source": [
    "**Next 5 columns**"
   ]
  },
  {
   "cell_type": "code",
   "execution_count": 26,
   "metadata": {},
   "outputs": [
    {
     "data": {
      "text/html": [
       "<div>\n",
       "<style scoped>\n",
       "    .dataframe tbody tr th:only-of-type {\n",
       "        vertical-align: middle;\n",
       "    }\n",
       "\n",
       "    .dataframe tbody tr th {\n",
       "        vertical-align: top;\n",
       "    }\n",
       "\n",
       "    .dataframe thead th {\n",
       "        text-align: right;\n",
       "    }\n",
       "</style>\n",
       "<table border=\"1\" class=\"dataframe\">\n",
       "  <thead>\n",
       "    <tr style=\"text-align: right;\">\n",
       "      <th></th>\n",
       "      <th>overall_rating</th>\n",
       "      <th>price</th>\n",
       "      <th>cuisines</th>\n",
       "      <th>rating_food</th>\n",
       "      <th>rating_service</th>\n",
       "    </tr>\n",
       "  </thead>\n",
       "  <tbody>\n",
       "    <tr>\n",
       "      <th>0</th>\n",
       "      <td>4.5 of 5</td>\n",
       "      <td>Medium range</td>\n",
       "      <td>Steakhouse,Vegetarian Friendly,Gluten Free Opt...</td>\n",
       "      <td>4.5 of 5</td>\n",
       "      <td>4.5 of 5</td>\n",
       "    </tr>\n",
       "    <tr>\n",
       "      <th>1</th>\n",
       "      <td>4.5 of 5</td>\n",
       "      <td>Expensive</td>\n",
       "      <td>French,European,Vegetarian Friendly,Vegan Opti...</td>\n",
       "      <td>5.0 of 5</td>\n",
       "      <td>5.0 of 5</td>\n",
       "    </tr>\n",
       "    <tr>\n",
       "      <th>2</th>\n",
       "      <td>4.5 of 5</td>\n",
       "      <td>Expensive</td>\n",
       "      <td>French,International,Vegetarian Friendly,Vegan...</td>\n",
       "      <td>4.5 of 5</td>\n",
       "      <td>4.5 of 5</td>\n",
       "    </tr>\n",
       "    <tr>\n",
       "      <th>3</th>\n",
       "      <td>4.5 of 5</td>\n",
       "      <td>Medium range</td>\n",
       "      <td>Steakhouse,Cajun &amp; Creole,Seafood,Gluten Free ...</td>\n",
       "      <td>4.5 of 5</td>\n",
       "      <td>4.5 of 5</td>\n",
       "    </tr>\n",
       "    <tr>\n",
       "      <th>4</th>\n",
       "      <td>4.5 of 5</td>\n",
       "      <td>Medium range</td>\n",
       "      <td>American,International,Vegetarian Friendly,Glu...</td>\n",
       "      <td>4.5 of 5</td>\n",
       "      <td>4.5 of 5</td>\n",
       "    </tr>\n",
       "  </tbody>\n",
       "</table>\n",
       "</div>"
      ],
      "text/plain": [
       "  overall_rating         price  \\\n",
       "0      4.5 of 5   Medium range   \n",
       "1      4.5 of 5      Expensive   \n",
       "2      4.5 of 5      Expensive   \n",
       "3      4.5 of 5   Medium range   \n",
       "4      4.5 of 5   Medium range   \n",
       "\n",
       "                                            cuisines rating_food  \\\n",
       "0  Steakhouse,Vegetarian Friendly,Gluten Free Opt...   4.5 of 5    \n",
       "1  French,European,Vegetarian Friendly,Vegan Opti...   5.0 of 5    \n",
       "2  French,International,Vegetarian Friendly,Vegan...   4.5 of 5    \n",
       "3  Steakhouse,Cajun & Creole,Seafood,Gluten Free ...   4.5 of 5    \n",
       "4  American,International,Vegetarian Friendly,Glu...   4.5 of 5    \n",
       "\n",
       "  rating_service  \n",
       "0      4.5 of 5   \n",
       "1      5.0 of 5   \n",
       "2      4.5 of 5   \n",
       "3      4.5 of 5   \n",
       "4      4.5 of 5   "
      ]
     },
     "execution_count": 26,
     "metadata": {},
     "output_type": "execute_result"
    }
   ],
   "source": [
    "df.iloc[:,5:10].head()"
   ]
  },
  {
   "cell_type": "markdown",
   "metadata": {},
   "source": [
    "**Next 5 columns**"
   ]
  },
  {
   "cell_type": "code",
   "execution_count": 28,
   "metadata": {},
   "outputs": [
    {
     "data": {
      "text/html": [
       "<div>\n",
       "<style scoped>\n",
       "    .dataframe tbody tr th:only-of-type {\n",
       "        vertical-align: middle;\n",
       "    }\n",
       "\n",
       "    .dataframe tbody tr th {\n",
       "        vertical-align: top;\n",
       "    }\n",
       "\n",
       "    .dataframe thead th {\n",
       "        text-align: right;\n",
       "    }\n",
       "</style>\n",
       "<table border=\"1\" class=\"dataframe\">\n",
       "  <thead>\n",
       "    <tr style=\"text-align: right;\">\n",
       "      <th></th>\n",
       "      <th>rating_atmosphere</th>\n",
       "      <th>rating_value</th>\n",
       "      <th>Average prices</th>\n",
       "      <th>Cuisine</th>\n",
       "      <th>Meals</th>\n",
       "    </tr>\n",
       "  </thead>\n",
       "  <tbody>\n",
       "    <tr>\n",
       "      <th>0</th>\n",
       "      <td>4.5 of 5</td>\n",
       "      <td>4.5 of 5</td>\n",
       "      <td>UAH 620 -\\nUAH 3,098</td>\n",
       "      <td>Steakhouse, Contemporary, Vegetarian Friendly,...</td>\n",
       "      <td>Dinner, Drinks</td>\n",
       "    </tr>\n",
       "    <tr>\n",
       "      <th>1</th>\n",
       "      <td>5.0 of 5</td>\n",
       "      <td>5.0 of 5</td>\n",
       "      <td>UAH 1,832 -\\nUAH 2,667</td>\n",
       "      <td>French, European, Vegetarian Friendly, Vegan O...</td>\n",
       "      <td>Dinner, Drinks</td>\n",
       "    </tr>\n",
       "    <tr>\n",
       "      <th>2</th>\n",
       "      <td>4.5 of 5</td>\n",
       "      <td>4.5 of 5</td>\n",
       "      <td>UAH 781 -\\nUAH 1,158</td>\n",
       "      <td>French, International, Vegetarian Friendly, Ve...</td>\n",
       "      <td>Dinner</td>\n",
       "    </tr>\n",
       "    <tr>\n",
       "      <th>3</th>\n",
       "      <td>4.5 of 5</td>\n",
       "      <td>4.5 of 5</td>\n",
       "      <td>UAH 350 -\\nUAH 781</td>\n",
       "      <td>Steakhouse, Cajun &amp; Creole, Seafood, Gluten Fr...</td>\n",
       "      <td>Dinner</td>\n",
       "    </tr>\n",
       "    <tr>\n",
       "      <th>4</th>\n",
       "      <td>4.5 of 5</td>\n",
       "      <td>4.5 of 5</td>\n",
       "      <td>NaN</td>\n",
       "      <td>American, International, Canadian, Vegetarian ...</td>\n",
       "      <td>Lunch, Dinner, Brunch</td>\n",
       "    </tr>\n",
       "  </tbody>\n",
       "</table>\n",
       "</div>"
      ],
      "text/plain": [
       "  rating_atmosphere rating_value          Average prices  \\\n",
       "0         4.5 of 5     4.5 of 5     UAH 620 -\\nUAH 3,098   \n",
       "1         5.0 of 5     5.0 of 5   UAH 1,832 -\\nUAH 2,667   \n",
       "2         4.5 of 5     4.5 of 5     UAH 781 -\\nUAH 1,158   \n",
       "3         4.5 of 5     4.5 of 5       UAH 350 -\\nUAH 781   \n",
       "4         4.5 of 5     4.5 of 5                      NaN   \n",
       "\n",
       "                                             Cuisine                  Meals  \n",
       "0  Steakhouse, Contemporary, Vegetarian Friendly,...         Dinner, Drinks  \n",
       "1  French, European, Vegetarian Friendly, Vegan O...         Dinner, Drinks  \n",
       "2  French, International, Vegetarian Friendly, Ve...                 Dinner  \n",
       "3  Steakhouse, Cajun & Creole, Seafood, Gluten Fr...                 Dinner  \n",
       "4  American, International, Canadian, Vegetarian ...  Lunch, Dinner, Brunch  "
      ]
     },
     "execution_count": 28,
     "metadata": {},
     "output_type": "execute_result"
    }
   ],
   "source": [
    "df.iloc[:,10:15].head()"
   ]
  },
  {
   "cell_type": "markdown",
   "metadata": {},
   "source": [
    "**Next 5 columns**"
   ]
  },
  {
   "cell_type": "code",
   "execution_count": 29,
   "metadata": {},
   "outputs": [
    {
     "data": {
      "text/html": [
       "<div>\n",
       "<style scoped>\n",
       "    .dataframe tbody tr th:only-of-type {\n",
       "        vertical-align: middle;\n",
       "    }\n",
       "\n",
       "    .dataframe tbody tr th {\n",
       "        vertical-align: top;\n",
       "    }\n",
       "\n",
       "    .dataframe thead th {\n",
       "        text-align: right;\n",
       "    }\n",
       "</style>\n",
       "<table border=\"1\" class=\"dataframe\">\n",
       "  <thead>\n",
       "    <tr style=\"text-align: right;\">\n",
       "      <th></th>\n",
       "      <th>Restaurant features</th>\n",
       "      <th>Dining Style</th>\n",
       "      <th>Good for</th>\n",
       "      <th>Open Hours</th>\n",
       "      <th>Location and Contact Information</th>\n",
       "    </tr>\n",
       "  </thead>\n",
       "  <tbody>\n",
       "    <tr>\n",
       "      <th>0</th>\n",
       "      <td>Reservations, Private Dining, Seating, Waitsta...</td>\n",
       "      <td>NaN</td>\n",
       "      <td>Romantic, Large groups, Bar scene, Special occ...</td>\n",
       "      <td>Sunday\\n5:00 PM - 12:00 AM\\n\\n\\nMonday\\n3:30 P...</td>\n",
       "      <td>Address:\\n 153 Yorkville Ave, Toronto, Ontario...</td>\n",
       "    </tr>\n",
       "    <tr>\n",
       "      <th>1</th>\n",
       "      <td>Reservations, Seating, Waitstaff, Serves Alcoh...</td>\n",
       "      <td>NaN</td>\n",
       "      <td>Special occasions, Local cuisine, Bar scene, R...</td>\n",
       "      <td>Tuesday\\n5:00 PM - 1:00 AM\\n\\n\\nWednesday\\n5:0...</td>\n",
       "      <td>Address:\\n 163 Spadina Ave | 3rd Floor, Toront...</td>\n",
       "    </tr>\n",
       "    <tr>\n",
       "      <th>2</th>\n",
       "      <td>Seating, Waitstaff, Wheelchair Accessible, Ser...</td>\n",
       "      <td>Fine Dining</td>\n",
       "      <td>Scenic view, Business meetings, Large groups, ...</td>\n",
       "      <td>Monday\\n5:30 PM - 9:30 PM\\n\\n\\nTuesday\\n5:30 P...</td>\n",
       "      <td>Address:\\n 1 Benvenuto Pl, Toronto, Ontario M4...</td>\n",
       "    </tr>\n",
       "    <tr>\n",
       "      <th>3</th>\n",
       "      <td>Takeout, Reservations, Seating, Waitstaff, Par...</td>\n",
       "      <td>NaN</td>\n",
       "      <td>Business meetings, Special occasions, Families...</td>\n",
       "      <td>Tuesday\\n5:00 PM - 10:00 PM\\n\\n\\nWednesday\\n5:...</td>\n",
       "      <td>Address:\\n 267 Scarlett Rd | York, Toronto, On...</td>\n",
       "    </tr>\n",
       "    <tr>\n",
       "      <th>4</th>\n",
       "      <td>Waitstaff, Highchairs Available, Serves Alcoho...</td>\n",
       "      <td>NaN</td>\n",
       "      <td>Large groups, Romantic, Local cuisine, Special...</td>\n",
       "      <td>Monday\\n11:00 AM - 10:30 PM\\n\\n\\nTuesday\\n11:0...</td>\n",
       "      <td>Address:\\n 1 Richmond St. West, Toronto, Ontar...</td>\n",
       "    </tr>\n",
       "  </tbody>\n",
       "</table>\n",
       "</div>"
      ],
      "text/plain": [
       "                                 Restaurant features Dining Style  \\\n",
       "0  Reservations, Private Dining, Seating, Waitsta...          NaN   \n",
       "1  Reservations, Seating, Waitstaff, Serves Alcoh...          NaN   \n",
       "2  Seating, Waitstaff, Wheelchair Accessible, Ser...  Fine Dining   \n",
       "3  Takeout, Reservations, Seating, Waitstaff, Par...          NaN   \n",
       "4  Waitstaff, Highchairs Available, Serves Alcoho...          NaN   \n",
       "\n",
       "                                            Good for  \\\n",
       "0  Romantic, Large groups, Bar scene, Special occ...   \n",
       "1  Special occasions, Local cuisine, Bar scene, R...   \n",
       "2  Scenic view, Business meetings, Large groups, ...   \n",
       "3  Business meetings, Special occasions, Families...   \n",
       "4  Large groups, Romantic, Local cuisine, Special...   \n",
       "\n",
       "                                          Open Hours  \\\n",
       "0  Sunday\\n5:00 PM - 12:00 AM\\n\\n\\nMonday\\n3:30 P...   \n",
       "1  Tuesday\\n5:00 PM - 1:00 AM\\n\\n\\nWednesday\\n5:0...   \n",
       "2  Monday\\n5:30 PM - 9:30 PM\\n\\n\\nTuesday\\n5:30 P...   \n",
       "3  Tuesday\\n5:00 PM - 10:00 PM\\n\\n\\nWednesday\\n5:...   \n",
       "4  Monday\\n11:00 AM - 10:30 PM\\n\\n\\nTuesday\\n11:0...   \n",
       "\n",
       "                    Location and Contact Information  \n",
       "0  Address:\\n 153 Yorkville Ave, Toronto, Ontario...  \n",
       "1  Address:\\n 163 Spadina Ave | 3rd Floor, Toront...  \n",
       "2  Address:\\n 1 Benvenuto Pl, Toronto, Ontario M4...  \n",
       "3  Address:\\n 267 Scarlett Rd | York, Toronto, On...  \n",
       "4  Address:\\n 1 Richmond St. West, Toronto, Ontar...  "
      ]
     },
     "execution_count": 29,
     "metadata": {},
     "output_type": "execute_result"
    }
   ],
   "source": [
    "df.iloc[:,15:20].head()"
   ]
  },
  {
   "cell_type": "markdown",
   "metadata": {},
   "source": [
    "**Last 2 columns**"
   ]
  },
  {
   "cell_type": "code",
   "execution_count": 30,
   "metadata": {},
   "outputs": [
    {
     "data": {
      "text/html": [
       "<div>\n",
       "<style scoped>\n",
       "    .dataframe tbody tr th:only-of-type {\n",
       "        vertical-align: middle;\n",
       "    }\n",
       "\n",
       "    .dataframe tbody tr th {\n",
       "        vertical-align: top;\n",
       "    }\n",
       "\n",
       "    .dataframe thead th {\n",
       "        text-align: right;\n",
       "    }\n",
       "</style>\n",
       "<table border=\"1\" class=\"dataframe\">\n",
       "  <thead>\n",
       "    <tr style=\"text-align: right;\">\n",
       "      <th></th>\n",
       "      <th>Description</th>\n",
       "      <th>reviews</th>\n",
       "    </tr>\n",
       "  </thead>\n",
       "  <tbody>\n",
       "    <tr>\n",
       "      <th>0</th>\n",
       "      <td>STK is a unique concept that artfully blends t...</td>\n",
       "      <td>Food ambiance and service is amazing. Matthew ...</td>\n",
       "    </tr>\n",
       "    <tr>\n",
       "      <th>1</th>\n",
       "      <td>Hospitality [hos-pi-tal-i-tee] Origin: French;...</td>\n",
       "      <td>Walk-ins with no reservations are no problem f...</td>\n",
       "    </tr>\n",
       "    <tr>\n",
       "      <th>2</th>\n",
       "      <td>Scaramouche has long been celebrated by custom...</td>\n",
       "      <td>I had carbonara and it was fantastic! My husba...</td>\n",
       "    </tr>\n",
       "    <tr>\n",
       "      <th>3</th>\n",
       "      <td>NaN</td>\n",
       "      <td>I had the steak and it was cooked to perfectio...</td>\n",
       "    </tr>\n",
       "    <tr>\n",
       "      <th>4</th>\n",
       "      <td>Richmond Station is a stopping place, a bustli...</td>\n",
       "      <td>My wife and I had a great meal, watching the c...</td>\n",
       "    </tr>\n",
       "  </tbody>\n",
       "</table>\n",
       "</div>"
      ],
      "text/plain": [
       "                                         Description  \\\n",
       "0  STK is a unique concept that artfully blends t...   \n",
       "1  Hospitality [hos-pi-tal-i-tee] Origin: French;...   \n",
       "2  Scaramouche has long been celebrated by custom...   \n",
       "3                                                NaN   \n",
       "4  Richmond Station is a stopping place, a bustli...   \n",
       "\n",
       "                                             reviews  \n",
       "0  Food ambiance and service is amazing. Matthew ...  \n",
       "1  Walk-ins with no reservations are no problem f...  \n",
       "2  I had carbonara and it was fantastic! My husba...  \n",
       "3  I had the steak and it was cooked to perfectio...  \n",
       "4  My wife and I had a great meal, watching the c...  "
      ]
     },
     "execution_count": 30,
     "metadata": {},
     "output_type": "execute_result"
    }
   ],
   "source": [
    "df.iloc[:,20:].head()"
   ]
  },
  {
   "cell_type": "code",
   "execution_count": null,
   "metadata": {},
   "outputs": [],
   "source": []
  }
 ],
 "metadata": {
  "kernelspec": {
   "display_name": "Python 3",
   "language": "python",
   "name": "python3"
  },
  "language_info": {
   "codemirror_mode": {
    "name": "ipython",
    "version": 3
   },
   "file_extension": ".py",
   "mimetype": "text/x-python",
   "name": "python",
   "nbconvert_exporter": "python",
   "pygments_lexer": "ipython3",
   "version": "3.6.6"
  }
 },
 "nbformat": 4,
 "nbformat_minor": 2
}
